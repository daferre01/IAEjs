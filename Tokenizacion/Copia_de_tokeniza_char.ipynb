{
  "nbformat": 4,
  "nbformat_minor": 0,
  "metadata": {
    "colab": {
      "provenance": []
    },
    "kernelspec": {
      "name": "python3",
      "display_name": "Python 3"
    },
    "language_info": {
      "name": "python"
    }
  },
  "cells": [
    {
      "cell_type": "code",
      "execution_count": null,
      "metadata": {
        "id": "03AnC_-qw1d5"
      },
      "outputs": [],
      "source": []
    },
    {
      "cell_type": "code",
      "source": [
        "txt = \"\"\"Podemos pensar al texto como una secuencia de caracteres, de palabras, de frases y\n",
        "entidades nombradas, de oraciones, pá rrafos, etc. Vamos a empezar por las má s bá sicas.\n",
        "Podemos pensar en un texto como una secuencia de palabras y a la palabra como una\n",
        "secuencia de letras que juntas le dan forma y nos remiten a algun concepto. Varias palabras,\n",
        "junto con algunos símbolos como signos de puntuaci n, interrogaci n o exclamaci n\n",
        "terminan por otorgarle el significado. Supongamos que tenemos las siguientes secuencias:\"\"\""
      ],
      "metadata": {
        "id": "95jZtXUzw8JX"
      },
      "execution_count": null,
      "outputs": []
    },
    {
      "cell_type": "code",
      "source": [
        "print(len(txt))"
      ],
      "metadata": {
        "colab": {
          "base_uri": "https://localhost:8080/"
        },
        "id": "4uwZ3L0dxaje",
        "outputId": "b9629435-d00d-4941-b051-7011f35d4d5c"
      },
      "execution_count": null,
      "outputs": [
        {
          "output_type": "stream",
          "name": "stdout",
          "text": [
            "518\n"
          ]
        }
      ]
    },
    {
      "cell_type": "code",
      "source": [
        "vocabulario = sorted(list(set(txt)))\n",
        "print(f' Vocabulario: {\"\".join(vocabulario)} tamaño: {len(vocabulario)}')"
      ],
      "metadata": {
        "colab": {
          "base_uri": "https://localhost:8080/"
        },
        "id": "frBtXrt7CvFQ",
        "outputId": "7b0796fd-bda0-495a-ff31-3930f43bb4fd"
      },
      "execution_count": null,
      "outputs": [
        {
          "output_type": "stream",
          "name": "stdout",
          "text": [
            " Vocabulario: \n",
            " ,.:PSVabcdefgijlmnopqrstuxyzáí tamaño: 32\n"
          ]
        }
      ]
    },
    {
      "cell_type": "code",
      "source": [
        "stoi = {ch:i for i,ch in enumerate(vocabulario)}\n",
        "print(stoi)\n",
        "itos = {i:ch for i,ch in enumerate(vocabulario)}\n",
        "print(itos)\n"
      ],
      "metadata": {
        "colab": {
          "base_uri": "https://localhost:8080/"
        },
        "id": "40D2fQaBExHd",
        "outputId": "63f62fe5-fbde-46ca-f60b-04b7c72a15b0"
      },
      "execution_count": null,
      "outputs": [
        {
          "output_type": "stream",
          "name": "stdout",
          "text": [
            "{'\\n': 0, ' ': 1, ',': 2, '.': 3, ':': 4, 'P': 5, 'S': 6, 'V': 7, 'a': 8, 'b': 9, 'c': 10, 'd': 11, 'e': 12, 'f': 13, 'g': 14, 'i': 15, 'j': 16, 'l': 17, 'm': 18, 'n': 19, 'o': 20, 'p': 21, 'q': 22, 'r': 23, 's': 24, 't': 25, 'u': 26, 'x': 27, 'y': 28, 'z': 29, 'á': 30, 'í': 31}\n",
            "{0: '\\n', 1: ' ', 2: ',', 3: '.', 4: ':', 5: 'P', 6: 'S', 7: 'V', 8: 'a', 9: 'b', 10: 'c', 11: 'd', 12: 'e', 13: 'f', 14: 'g', 15: 'i', 16: 'j', 17: 'l', 18: 'm', 19: 'n', 20: 'o', 21: 'p', 22: 'q', 23: 'r', 24: 's', 25: 't', 26: 'u', 27: 'x', 28: 'y', 29: 'z', 30: 'á', 31: 'í'}\n"
          ]
        }
      ]
    },
    {
      "cell_type": "code",
      "source": [
        "def tokeniza(s):\n",
        "  ret = [stoi[c] for c in s]\n",
        "  return ret\n",
        "def destokeniza(ltokens):\n",
        "  ret = \"\".join([itos[i] for i in ltokens])\n",
        "  return ret\n"
      ],
      "metadata": {
        "id": "fnFHE7iGFqdo"
      },
      "execution_count": null,
      "outputs": []
    },
    {
      "cell_type": "code",
      "source": [
        "print(tokeniza(\"pepito\"))\n",
        "print(destokeniza([21, 12, 21, 15, 25, 20]))"
      ],
      "metadata": {
        "colab": {
          "base_uri": "https://localhost:8080/"
        },
        "id": "ZhuZDdmiGXX4",
        "outputId": "6e880709-d9a4-4a14-d0a2-0fe822eb610b"
      },
      "execution_count": null,
      "outputs": [
        {
          "output_type": "stream",
          "name": "stdout",
          "text": [
            "[21, 12, 21, 15, 25, 20]\n",
            "pepito\n"
          ]
        }
      ]
    }
  ]
}