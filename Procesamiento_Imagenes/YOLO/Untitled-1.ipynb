{
 "cells": [
  {
   "cell_type": "code",
   "execution_count": null,
   "metadata": {},
   "outputs": [],
   "source": [
    "import cv2\n",
    "from yolov4 import YOLOv4\n",
    "\n",
    "yolo = YOLOv4()\n",
    "yolo.load_weights(\"yolov4.weights\")\n",
    "yolo.classes = [\"billar\"]\n",
    "\n",
    "video_path = \"ruta/a/tu/video.mp4\"\n",
    "cap = cv2.VideoCapture(video_path)\n",
    "\n",
    "while True:\n",
    "    ret, frame = cap.read()\n",
    "    if not ret:\n",
    "        break\n",
    "\n",
    "    detections = yolo.predict(frame)\n",
    "\n",
    "    for detection in detections:\n",
    "        label, confidence, bbox = detection\n",
    "        x, y, w, h = bbox\n",
    "        cv2.rectangle(frame, (int(x - w / 2), int(y - h / 2)), (int(x + w / 2), int(y + h / 2)), (0, 255, 0), 2)\n",
    "        cv2.putText(frame, f\"{label}: {confidence:.2f}\", (int(x - w / 2), int(y - h / 2 - 10)),\n",
    "                    cv2.FONT_HERSHEY_SIMPLEX, 0.5, (0, 255, 0), 2)\n",
    "\n",
    "    cv2.imshow(\"YOLOv4 Object Detection\", frame)\n",
    "\n",
    "    if cv2.waitKey(1) & 0xFF == ord('q'):\n",
    "        break\n",
    "\n",
    "cap.release()\n",
    "cv2.destroyAllWindows()\n"
   ]
  }
 ],
 "metadata": {
  "language_info": {
   "name": "python"
  }
 },
 "nbformat": 4,
 "nbformat_minor": 2
}
