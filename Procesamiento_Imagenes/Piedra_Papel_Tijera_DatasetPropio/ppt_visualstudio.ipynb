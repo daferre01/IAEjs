{
 "cells": [
  {
   "cell_type": "code",
   "execution_count": 6,
   "metadata": {},
   "outputs": [],
   "source": [
    "import cv2 as cv\n",
    "from cmath import sqrt\n",
    "from mediapipe import solutions\n",
    "from mediapipe.framework.formats import landmark_pb2\n",
    "import numpy as np"
   ]
  },
  {
   "cell_type": "code",
   "execution_count": 7,
   "metadata": {},
   "outputs": [],
   "source": [
    "import numpy as np\n",
    "import cv2 as cv\n",
    "from matplotlib import pyplot as plt\n",
    "\n",
    "import pylab\n",
    "pylab.rcParams['figure.figsize'] = (15.0, 10.0)"
   ]
  },
  {
   "cell_type": "code",
   "execution_count": 8,
   "metadata": {},
   "outputs": [
    {
     "name": "stdout",
     "output_type": "stream",
     "text": [
      "['none', 'none', 'none', 'none', 'none', 'none', 'papel', 'papel', 'papel', 'papel', 'papel', 'papel', 'papel', 'papel', 'piedra', 'piedra', 'piedra', 'piedra', 'piedra', 'piedra', 'piedra', 'piedra', 'tijeras', 'tijeras', 'tijeras', 'tijeras', 'tijeras', 'tijeras', 'tijeras', 'tijeras', 'none', 'none', 'none', 'none', 'none', 'papel', 'papel', 'papel', 'papel', 'papel', 'none', 'none', 'none', 'none', 'none', 'papel', 'papel', 'papel', 'papel', 'papel', 'piedra', 'piedra', 'piedra', 'piedra', 'piedra', 'tijeras', 'tijeras', 'tijeras', 'tijeras', 'tijeras', 'none', 'none', 'none', 'none', 'none', 'none', 'none', 'none', 'none', 'none', 'papel', 'papel', 'papel', 'papel', 'papel', 'papel', 'papel', 'papel', 'papel', 'papel', 'papel', 'papel', 'papel', 'papel', 'papel', 'piedra', 'piedra', 'piedra', 'piedra', 'piedra', 'piedra', 'piedra', 'piedra', 'piedra', 'piedra', 'piedra', 'piedra', 'piedra', 'tijeras', 'tijeras', 'tijeras', 'tijeras', 'tijeras', 'tijeras', 'tijeras', 'tijeras', 'tijeras', 'tijeras', 'tijeras', 'none', 'none', 'none', 'none', 'none', 'none', 'papel', 'papel', 'papel', 'papel', 'papel', 'piedra', 'piedra', 'piedra', 'piedra', 'piedra', 'piedra', 'tijeras', 'tijeras', 'tijeras', 'tijeras', 'tijeras', 'tijeras', 'none', 'none', 'none', 'none', 'none', 'none', 'none', 'papel', 'papel', 'papel', 'papel', 'papel', 'papel', 'papel', 'papel', 'papel', 'papel', 'papel', 'papel', 'papel', 'papel', 'papel', 'papel', 'papel', 'papel', 'papel', 'papel', 'papel', 'papel', 'papel', 'papel', 'papel', 'papel', 'papel', 'papel', 'papel', 'papel', 'piedra', 'piedra', 'piedra', 'piedra', 'piedra', 'piedra', 'piedra', 'piedra', 'piedra', 'piedra', 'piedra', 'piedra', 'piedra', 'piedra', 'piedra', 'piedra', 'piedra', 'piedra', 'tijeras', 'tijeras', 'tijeras', 'tijeras', 'tijeras', 'tijeras', 'tijeras', 'tijeras', 'tijeras', 'tijeras', 'tijeras', 'tijeras', 'tijeras', 'tijeras', 'tijeras', 'tijeras', 'tijeras', 'tijeras', 'tijeras', 'none', 'none', 'none', 'none', 'papel', 'papel', 'papel', 'papel', 'papel', 'piedra', 'piedra', 'piedra', 'piedra', 'piedra', 'tijeras', 'tijeras', 'tijeras', 'tijeras', 'tijeras', 'none', 'none', 'none', 'none', 'none', 'papel', 'papel', 'papel', 'papel', 'piedra', 'piedra', 'piedra', 'piedra', 'piedra', 'tijeras', 'tijeras', 'tijeras', 'tijeras', 'none', 'none', 'none', 'none', 'none', 'none', 'none', 'none', 'none', 'papel', 'papel', 'papel', 'papel', 'piedra', 'piedra', 'piedra', 'piedra', 'piedra', 'piedra', 'piedra', 'piedra', 'tijeras', 'tijeras', 'tijeras', 'tijeras', 'tijeras', 'tijeras', 'tijeras', 'tijeras', 'none', 'none', 'none', 'none', 'none', 'none', 'none', 'none', 'none', 'none', 'none', 'papel', 'papel', 'papel', 'papel', 'papel', 'papel', 'papel', 'papel', 'piedra', 'piedra', 'piedra', 'piedra', 'piedra', 'piedra', 'piedra', 'tijeras', 'tijeras', 'tijeras', 'tijeras', 'tijeras', 'tijeras', 'tijeras', 'tijeras', 'none', 'none', 'none', 'none', 'none', 'none', 'none', 'none', 'papel', 'papel', 'papel', 'papel', 'papel', 'papel', 'papel', 'papel', 'papel', 'papel', 'piedra', 'piedra', 'piedra', 'piedra', 'piedra', 'piedra', 'piedra', 'tijeras', 'tijeras', 'tijeras', 'tijeras', 'tijeras', 'tijeras', 'tijeras', 'tijeras', 'tijeras', 'tijeras']\n",
      "['img\\\\Alan_Lopez\\\\none\\\\1708962145480.jpg', 'img\\\\Alan_Lopez\\\\none\\\\1708962145483.jpg', 'img\\\\Alan_Lopez\\\\none\\\\1708962145485.jpg', 'img\\\\Alan_Lopez\\\\none\\\\1708962145487.jpg', 'img\\\\Alan_Lopez\\\\none\\\\1708962145490.jpg', 'img\\\\Alan_Lopez\\\\none\\\\1708962145492.jpg', 'img\\\\Alan_Lopez\\\\papel\\\\1708962102002.jpg', 'img\\\\Alan_Lopez\\\\papel\\\\1708962102004.jpg', 'img\\\\Alan_Lopez\\\\papel\\\\1708962102007.jpg', 'img\\\\Alan_Lopez\\\\papel\\\\1708962102009.jpg', 'img\\\\Alan_Lopez\\\\papel\\\\1708962102012.jpg', 'img\\\\Alan_Lopez\\\\papel\\\\1708962102015.jpg', 'img\\\\Alan_Lopez\\\\papel\\\\1708962102018.jpg', 'img\\\\Alan_Lopez\\\\papel\\\\1708962102021.jpg', 'img\\\\Alan_Lopez\\\\piedra\\\\1708961946828.jpg', 'img\\\\Alan_Lopez\\\\piedra\\\\1708961946830.jpg', 'img\\\\Alan_Lopez\\\\piedra\\\\1708961946832.jpg', 'img\\\\Alan_Lopez\\\\piedra\\\\1708961946835.jpg', 'img\\\\Alan_Lopez\\\\piedra\\\\1708961946837.jpg', 'img\\\\Alan_Lopez\\\\piedra\\\\1708961946841.jpg', 'img\\\\Alan_Lopez\\\\piedra\\\\1708961946844.jpg', 'img\\\\Alan_Lopez\\\\piedra\\\\1708961946845.jpg', 'img\\\\Alan_Lopez\\\\tijeras\\\\1708962069978.jpg', 'img\\\\Alan_Lopez\\\\tijeras\\\\1708962069981.jpg', 'img\\\\Alan_Lopez\\\\tijeras\\\\1708962069983.jpg', 'img\\\\Alan_Lopez\\\\tijeras\\\\1708962069985.jpg', 'img\\\\Alan_Lopez\\\\tijeras\\\\1708962069987.jpg', 'img\\\\Alan_Lopez\\\\tijeras\\\\1708962069988.jpg', 'img\\\\Alan_Lopez\\\\tijeras\\\\1708962069990.jpg', 'img\\\\Alan_Lopez\\\\tijeras\\\\1708962069992.jpg', 'img\\\\Alejandro\\\\none\\\\IMG_20240226_171557.jpg', 'img\\\\Alejandro\\\\none\\\\IMG_20240226_171634.jpg', 'img\\\\Alejandro\\\\none\\\\IMG_20240226_171659.jpg', 'img\\\\Alejandro\\\\none\\\\IMG_20240226_171725.jpg', 'img\\\\Alejandro\\\\none\\\\IMG_20240226_171749.jpg', 'img\\\\Alejandro\\\\papel\\\\IMG_20240226_171515.jpg', 'img\\\\Alejandro\\\\papel\\\\IMG_20240226_171517.jpg', 'img\\\\Alejandro\\\\papel\\\\IMG_20240226_171518.jpg', 'img\\\\Alejandro\\\\papel\\\\IMG_20240226_171519.jpg', 'img\\\\Alejandro\\\\papel\\\\IMG_20240226_171533.jpg', 'img\\\\Daniel_Martinez\\\\none\\\\20240226_163444.jpg', 'img\\\\Daniel_Martinez\\\\none\\\\20240226_163457.jpg', 'img\\\\Daniel_Martinez\\\\none\\\\20240226_163505.jpg', 'img\\\\Daniel_Martinez\\\\none\\\\20240226_163513.jpg', 'img\\\\Daniel_Martinez\\\\none\\\\20240226_163525.jpg', 'img\\\\Daniel_Martinez\\\\papel\\\\20240226_163344.jpg', 'img\\\\Daniel_Martinez\\\\papel\\\\20240226_163350.jpg', 'img\\\\Daniel_Martinez\\\\papel\\\\20240226_163354.jpg', 'img\\\\Daniel_Martinez\\\\papel\\\\20240226_163400.jpg', 'img\\\\Daniel_Martinez\\\\papel\\\\20240226_163409.jpg', 'img\\\\Daniel_Martinez\\\\piedra\\\\20240226_163311.jpg', 'img\\\\Daniel_Martinez\\\\piedra\\\\20240226_163315.jpg', 'img\\\\Daniel_Martinez\\\\piedra\\\\20240226_163320.jpg', 'img\\\\Daniel_Martinez\\\\piedra\\\\20240226_163328.jpg', 'img\\\\Daniel_Martinez\\\\piedra\\\\20240226_163337.jpg', 'img\\\\Daniel_Martinez\\\\tijeras\\\\20240226_163417.jpg', 'img\\\\Daniel_Martinez\\\\tijeras\\\\20240226_163420.jpg', 'img\\\\Daniel_Martinez\\\\tijeras\\\\20240226_163425.jpg', 'img\\\\Daniel_Martinez\\\\tijeras\\\\20240226_163430.jpg', 'img\\\\Daniel_Martinez\\\\tijeras\\\\20240226_163437.jpg', 'img\\\\David_Fernandez\\\\none\\\\IMG20240226163212.jpg', 'img\\\\David_Fernandez\\\\none\\\\IMG20240226163215.jpg', 'img\\\\David_Fernandez\\\\none\\\\IMG20240226163217.jpg', 'img\\\\David_Fernandez\\\\none\\\\IMG20240226163219.jpg', 'img\\\\David_Fernandez\\\\none\\\\IMG20240226163224.jpg', 'img\\\\David_Fernandez\\\\none\\\\IMG20240226163226.jpg', 'img\\\\David_Fernandez\\\\none\\\\IMG20240226163234.jpg', 'img\\\\David_Fernandez\\\\none\\\\IMG20240226163241.jpg', 'img\\\\David_Fernandez\\\\none\\\\IMG20240226163248.jpg', 'img\\\\David_Fernandez\\\\none\\\\IMG20240226163251.jpg', 'img\\\\David_Fernandez\\\\papel\\\\IMG20240226162240.jpg', 'img\\\\David_Fernandez\\\\papel\\\\IMG20240226162243.jpg', 'img\\\\David_Fernandez\\\\papel\\\\IMG20240226162245.jpg', 'img\\\\David_Fernandez\\\\papel\\\\IMG20240226162247.jpg', 'img\\\\David_Fernandez\\\\papel\\\\IMG20240226162250.jpg', 'img\\\\David_Fernandez\\\\papel\\\\IMG20240226162253.jpg', 'img\\\\David_Fernandez\\\\papel\\\\IMG20240226162255.jpg', 'img\\\\David_Fernandez\\\\papel\\\\IMG20240226162258.jpg', 'img\\\\David_Fernandez\\\\papel\\\\IMG20240226162301.jpg', 'img\\\\David_Fernandez\\\\papel\\\\IMG20240226162429.jpg', 'img\\\\David_Fernandez\\\\papel\\\\IMG20240226162431.jpg', 'img\\\\David_Fernandez\\\\papel\\\\IMG20240226162432.jpg', 'img\\\\David_Fernandez\\\\papel\\\\IMG20240226162433.jpg', 'img\\\\David_Fernandez\\\\papel\\\\IMG20240226162434.jpg', 'img\\\\David_Fernandez\\\\papel\\\\IMG20240226162435.jpg', 'img\\\\David_Fernandez\\\\piedra\\\\IMG20240226162309.jpg', 'img\\\\David_Fernandez\\\\piedra\\\\IMG20240226162310.jpg', 'img\\\\David_Fernandez\\\\piedra\\\\IMG20240226162317.jpg', 'img\\\\David_Fernandez\\\\piedra\\\\IMG20240226162319.jpg', 'img\\\\David_Fernandez\\\\piedra\\\\IMG20240226162321.jpg', 'img\\\\David_Fernandez\\\\piedra\\\\IMG20240226162324.jpg', 'img\\\\David_Fernandez\\\\piedra\\\\IMG20240226162326.jpg', 'img\\\\David_Fernandez\\\\piedra\\\\IMG20240226162328.jpg', 'img\\\\David_Fernandez\\\\piedra\\\\IMG20240226162438.jpg', 'img\\\\David_Fernandez\\\\piedra\\\\IMG20240226162442.jpg', 'img\\\\David_Fernandez\\\\piedra\\\\IMG20240226162443.jpg', 'img\\\\David_Fernandez\\\\piedra\\\\IMG20240226162446.jpg', 'img\\\\David_Fernandez\\\\piedra\\\\IMG20240226162447.jpg', 'img\\\\David_Fernandez\\\\tijeras\\\\IMG20240226162334.jpg', 'img\\\\David_Fernandez\\\\tijeras\\\\IMG20240226162335.jpg', 'img\\\\David_Fernandez\\\\tijeras\\\\IMG20240226162340.jpg', 'img\\\\David_Fernandez\\\\tijeras\\\\IMG20240226162347.jpg', 'img\\\\David_Fernandez\\\\tijeras\\\\IMG20240226162351.jpg', 'img\\\\David_Fernandez\\\\tijeras\\\\IMG20240226162452.jpg', 'img\\\\David_Fernandez\\\\tijeras\\\\IMG20240226162453.jpg', 'img\\\\David_Fernandez\\\\tijeras\\\\IMG20240226162455.jpg', 'img\\\\David_Fernandez\\\\tijeras\\\\IMG20240226162457.jpg', 'img\\\\David_Fernandez\\\\tijeras\\\\IMG20240226162459.jpg', 'img\\\\David_Fernandez\\\\tijeras\\\\IMG20240226162502.jpg', 'img\\\\David_Paz\\\\none\\\\1708962186177.jpg', 'img\\\\David_Paz\\\\none\\\\1708962186189.jpg', 'img\\\\David_Paz\\\\none\\\\1708962186199.jpg', 'img\\\\David_Paz\\\\none\\\\1708962186208.jpg', 'img\\\\David_Paz\\\\none\\\\1708962186217.jpg', 'img\\\\David_Paz\\\\none\\\\1708962186240.jpg', 'img\\\\David_Paz\\\\papel\\\\1708961604838.jpg', 'img\\\\David_Paz\\\\papel\\\\1708961604850.jpg', 'img\\\\David_Paz\\\\papel\\\\1708961604863.jpg', 'img\\\\David_Paz\\\\papel\\\\1708961604879.jpg', 'img\\\\David_Paz\\\\papel\\\\1708961604895.jpg', 'img\\\\David_Paz\\\\piedra\\\\1708961580454.jpg', 'img\\\\David_Paz\\\\piedra\\\\1708961580467.jpg', 'img\\\\David_Paz\\\\piedra\\\\1708961580480.jpg', 'img\\\\David_Paz\\\\piedra\\\\1708961580489.jpg', 'img\\\\David_Paz\\\\piedra\\\\1708961580500.jpg', 'img\\\\David_Paz\\\\piedra\\\\1708961580510.jpg', 'img\\\\David_Paz\\\\tijeras\\\\1708961551447.jpg', 'img\\\\David_Paz\\\\tijeras\\\\1708961551479.jpg', 'img\\\\David_Paz\\\\tijeras\\\\1708961551496.jpg', 'img\\\\David_Paz\\\\tijeras\\\\1708961551505.jpg', 'img\\\\David_Paz\\\\tijeras\\\\1708961551515.jpg', 'img\\\\David_Paz\\\\tijeras\\\\1708961551523.jpg', 'img\\\\Diego_Guizan\\\\none\\\\IMG20240226165733.jpg', 'img\\\\Diego_Guizan\\\\none\\\\IMG20240226165740.jpg', 'img\\\\Diego_Guizan\\\\none\\\\IMG20240226165744.jpg', 'img\\\\Diego_Guizan\\\\none\\\\IMG20240226165745.jpg', 'img\\\\Diego_Guizan\\\\none\\\\IMG20240226165747.jpg', 'img\\\\Diego_Guizan\\\\none\\\\IMG20240226165750.jpg', 'img\\\\Diego_Guizan\\\\none\\\\IMG20240226165755.jpg', 'img\\\\Diego_Guizan\\\\papel\\\\IMG20240226163444.jpg', 'img\\\\Diego_Guizan\\\\papel\\\\IMG20240226163456.jpg', 'img\\\\Diego_Guizan\\\\papel\\\\IMG20240226163457.jpg', 'img\\\\Diego_Guizan\\\\papel\\\\IMG20240226163500.jpg', 'img\\\\Diego_Guizan\\\\papel\\\\IMG20240226163503.jpg', 'img\\\\Diego_Guizan\\\\papel\\\\IMG20240226165441.jpg', 'img\\\\Diego_Guizan\\\\papel\\\\IMG20240226165443.jpg', 'img\\\\Diego_Guizan\\\\papel\\\\IMG20240226165445.jpg', 'img\\\\Diego_Guizan\\\\papel\\\\IMG20240226165446.jpg', 'img\\\\Diego_Guizan\\\\papel\\\\IMG20240226165447.jpg', 'img\\\\Diego_Guizan\\\\papel\\\\IMG20240226165449.jpg', 'img\\\\Diego_Guizan\\\\papel\\\\IMG20240226165451.jpg', 'img\\\\Diego_Guizan\\\\papel\\\\IMG20240226165454.jpg', 'img\\\\Diego_Guizan\\\\papel\\\\IMG20240226165511.jpg', 'img\\\\Diego_Guizan\\\\papel\\\\IMG20240226165514.jpg', 'img\\\\Diego_Guizan\\\\papel\\\\IMG20240226165518.jpg', 'img\\\\Diego_Guizan\\\\papel\\\\IMG20240226165520.jpg', 'img\\\\Diego_Guizan\\\\papel\\\\IMG20240226165522.jpg', 'img\\\\Diego_Guizan\\\\papel\\\\IMG20240226165529.jpg', 'img\\\\Diego_Guizan\\\\papel\\\\IMG20240226165531.jpg', 'img\\\\Diego_Guizan\\\\papel\\\\IMG20240226165533.jpg', 'img\\\\Diego_Guizan\\\\papel\\\\IMG20240226165534.jpg', 'img\\\\Diego_Guizan\\\\papel\\\\IMG20240226165536.jpg', 'img\\\\Diego_Guizan\\\\papel\\\\IMG20240226165538.jpg', 'img\\\\Diego_Guizan\\\\papel\\\\IMG20240226165539.jpg', 'img\\\\Diego_Guizan\\\\papel\\\\IMG20240226165540.jpg', 'img\\\\Diego_Guizan\\\\papel\\\\IMG20240226165542.jpg', 'img\\\\Diego_Guizan\\\\papel\\\\IMG20240226165543.jpg', 'img\\\\Diego_Guizan\\\\papel\\\\IMG20240226165730.jpg', 'img\\\\Diego_Guizan\\\\papel\\\\IMG20240226165730_01.jpg', 'img\\\\Diego_Guizan\\\\piedra\\\\IMG20240226163446.jpg', 'img\\\\Diego_Guizan\\\\piedra\\\\IMG20240226163448.jpg', 'img\\\\Diego_Guizan\\\\piedra\\\\IMG20240226163449.jpg', 'img\\\\Diego_Guizan\\\\piedra\\\\IMG20240226163452.jpg', 'img\\\\Diego_Guizan\\\\piedra\\\\IMG20240226163454.jpg', 'img\\\\Diego_Guizan\\\\piedra\\\\IMG20240226165547.jpg', 'img\\\\Diego_Guizan\\\\piedra\\\\IMG20240226165548.jpg', 'img\\\\Diego_Guizan\\\\piedra\\\\IMG20240226165550.jpg', 'img\\\\Diego_Guizan\\\\piedra\\\\IMG20240226165552.jpg', 'img\\\\Diego_Guizan\\\\piedra\\\\IMG20240226165554.jpg', 'img\\\\Diego_Guizan\\\\piedra\\\\IMG20240226165600.jpg', 'img\\\\Diego_Guizan\\\\piedra\\\\IMG20240226165614.jpg', 'img\\\\Diego_Guizan\\\\piedra\\\\IMG20240226165617.jpg', 'img\\\\Diego_Guizan\\\\piedra\\\\IMG20240226165619.jpg', 'img\\\\Diego_Guizan\\\\piedra\\\\IMG20240226165620.jpg', 'img\\\\Diego_Guizan\\\\piedra\\\\IMG20240226165621.jpg', 'img\\\\Diego_Guizan\\\\piedra\\\\IMG20240226165623.jpg', 'img\\\\Diego_Guizan\\\\piedra\\\\IMG20240226165624.jpg', 'img\\\\Diego_Guizan\\\\tijera\\\\IMG20240226163506.jpg', 'img\\\\Diego_Guizan\\\\tijera\\\\IMG20240226163509.jpg', 'img\\\\Diego_Guizan\\\\tijera\\\\IMG20240226163512.jpg', 'img\\\\Diego_Guizan\\\\tijera\\\\IMG20240226163515.jpg', 'img\\\\Diego_Guizan\\\\tijera\\\\IMG20240226163517.jpg', 'img\\\\Diego_Guizan\\\\tijera\\\\IMG20240226165626.jpg', 'img\\\\Diego_Guizan\\\\tijera\\\\IMG20240226165638.jpg', 'img\\\\Diego_Guizan\\\\tijera\\\\IMG20240226165640.jpg', 'img\\\\Diego_Guizan\\\\tijera\\\\IMG20240226165643.jpg', 'img\\\\Diego_Guizan\\\\tijera\\\\IMG20240226165646.jpg', 'img\\\\Diego_Guizan\\\\tijera\\\\IMG20240226165649.jpg', 'img\\\\Diego_Guizan\\\\tijera\\\\IMG20240226165651.jpg', 'img\\\\Diego_Guizan\\\\tijera\\\\IMG20240226165653.jpg', 'img\\\\Diego_Guizan\\\\tijera\\\\IMG20240226165657.jpg', 'img\\\\Diego_Guizan\\\\tijera\\\\IMG20240226165658.jpg', 'img\\\\Diego_Guizan\\\\tijera\\\\IMG20240226165703.jpg', 'img\\\\Diego_Guizan\\\\tijera\\\\IMG20240226165705.jpg', 'img\\\\Diego_Guizan\\\\tijera\\\\IMG20240226165707.jpg', 'img\\\\Diego_Guizan\\\\tijera\\\\IMG20240226165708.jpg', 'img\\\\Emilio\\\\none\\\\none01.png', 'img\\\\Emilio\\\\none\\\\none02.png', 'img\\\\Emilio\\\\none\\\\none03.png', 'img\\\\Emilio\\\\none\\\\none04.png', 'img\\\\Emilio\\\\papel\\\\papel01.png', 'img\\\\Emilio\\\\papel\\\\papel02.png', 'img\\\\Emilio\\\\papel\\\\papel03.png', 'img\\\\Emilio\\\\papel\\\\papel04.png', 'img\\\\Emilio\\\\papel\\\\papel05.png', 'img\\\\Emilio\\\\piedra\\\\piedra01.png', 'img\\\\Emilio\\\\piedra\\\\piedra02.png', 'img\\\\Emilio\\\\piedra\\\\piedra03.png', 'img\\\\Emilio\\\\piedra\\\\piedra04.png', 'img\\\\Emilio\\\\piedra\\\\piedra05.png', 'img\\\\Emilio\\\\tijera\\\\tijera01.png', 'img\\\\Emilio\\\\tijera\\\\tijera02.png', 'img\\\\Emilio\\\\tijera\\\\tijera03.png', 'img\\\\Emilio\\\\tijera\\\\tijera04.png', 'img\\\\Emilio\\\\tijera\\\\tijera05.png', 'img\\\\Ian\\\\none\\\\none1.jpg', 'img\\\\Ian\\\\none\\\\none2.jpg', 'img\\\\Ian\\\\none\\\\none3.jpg', 'img\\\\Ian\\\\none\\\\none4.jpg', 'img\\\\Ian\\\\none\\\\none5.jpg', 'img\\\\Ian\\\\papel\\\\papel1.jpg', 'img\\\\Ian\\\\papel\\\\papel2.jpg', 'img\\\\Ian\\\\papel\\\\papel3.jpg', 'img\\\\Ian\\\\papel\\\\papel4.jpg', 'img\\\\Ian\\\\piedra\\\\piedra1.jpg', 'img\\\\Ian\\\\piedra\\\\piedra2.jpg', 'img\\\\Ian\\\\piedra\\\\piedra3.jpg', 'img\\\\Ian\\\\piedra\\\\piedra4.jpg', 'img\\\\Ian\\\\piedra\\\\piedra5.jpg', 'img\\\\Ian\\\\tijera\\\\tijeras1.jpg', 'img\\\\Ian\\\\tijera\\\\tijeras2.jpg', 'img\\\\Ian\\\\tijera\\\\tijeras3.jpg', 'img\\\\Ian\\\\tijera\\\\tijeras4.jpg', 'img\\\\Jose\\\\none\\\\IMG_0562.jpg', 'img\\\\Jose\\\\none\\\\IMG_0563.jpg', 'img\\\\Jose\\\\none\\\\IMG_0565.jpg', 'img\\\\Jose\\\\none\\\\IMG_0566.jpg', 'img\\\\Jose\\\\none\\\\IMG_0567.jpg', 'img\\\\Jose\\\\none\\\\IMG_0568.jpg', 'img\\\\Jose\\\\none\\\\IMG_0569.jpg', 'img\\\\Jose\\\\none\\\\IMG_0570.jpg', 'img\\\\Jose\\\\none\\\\IMG_0571.jpg', 'img\\\\Jose\\\\papel\\\\IMG_0542.jpg', 'img\\\\Jose\\\\papel\\\\IMG_0543.jpg', 'img\\\\Jose\\\\papel\\\\IMG_0544.jpg', 'img\\\\Jose\\\\papel\\\\IMG_0545.jpg', 'img\\\\Jose\\\\piedra\\\\IMG_0546.jpg', 'img\\\\Jose\\\\piedra\\\\IMG_0547.jpg', 'img\\\\Jose\\\\piedra\\\\IMG_0548.jpg', 'img\\\\Jose\\\\piedra\\\\IMG_0549.jpg', 'img\\\\Jose\\\\piedra\\\\IMG_0550.jpg', 'img\\\\Jose\\\\piedra\\\\IMG_0551.jpg', 'img\\\\Jose\\\\piedra\\\\IMG_0552.jpg', 'img\\\\Jose\\\\piedra\\\\IMG_0553.jpg', 'img\\\\Jose\\\\tijera\\\\IMG_0554.jpg', 'img\\\\Jose\\\\tijera\\\\IMG_0555.jpg', 'img\\\\Jose\\\\tijera\\\\IMG_0556.jpg', 'img\\\\Jose\\\\tijera\\\\IMG_0557.jpg', 'img\\\\Jose\\\\tijera\\\\IMG_0558.jpg', 'img\\\\Jose\\\\tijera\\\\IMG_0559.jpg', 'img\\\\Jose\\\\tijera\\\\IMG_0560.jpg', 'img\\\\Jose\\\\tijera\\\\IMG_0561.jpg', 'img\\\\Nicolas_Portos_Saavedra\\\\none\\\\none_1.jpg', 'img\\\\Nicolas_Portos_Saavedra\\\\none\\\\none_10.jpg', 'img\\\\Nicolas_Portos_Saavedra\\\\none\\\\none_11.jpg', 'img\\\\Nicolas_Portos_Saavedra\\\\none\\\\none_2.jpg', 'img\\\\Nicolas_Portos_Saavedra\\\\none\\\\none_3.jpg', 'img\\\\Nicolas_Portos_Saavedra\\\\none\\\\none_4.jpg', 'img\\\\Nicolas_Portos_Saavedra\\\\none\\\\none_5.jpg', 'img\\\\Nicolas_Portos_Saavedra\\\\none\\\\none_6.jpg', 'img\\\\Nicolas_Portos_Saavedra\\\\none\\\\none_7.jpg', 'img\\\\Nicolas_Portos_Saavedra\\\\none\\\\none_8.jpg', 'img\\\\Nicolas_Portos_Saavedra\\\\none\\\\none_9.jpg', 'img\\\\Nicolas_Portos_Saavedra\\\\papel\\\\papel_abierto_1.jpg', 'img\\\\Nicolas_Portos_Saavedra\\\\papel\\\\papel_abierto_2.jpg', 'img\\\\Nicolas_Portos_Saavedra\\\\papel\\\\papel_abierto_3.jpg', 'img\\\\Nicolas_Portos_Saavedra\\\\papel\\\\papel_abierto_4.jpg', 'img\\\\Nicolas_Portos_Saavedra\\\\papel\\\\papel_abierto_5.jpg', 'img\\\\Nicolas_Portos_Saavedra\\\\papel\\\\papel_cerrado_1.jpg', 'img\\\\Nicolas_Portos_Saavedra\\\\papel\\\\papel_cerrado_2.jpg', 'img\\\\Nicolas_Portos_Saavedra\\\\papel\\\\papel_cerrado_3.jpg', 'img\\\\Nicolas_Portos_Saavedra\\\\piedra\\\\piedra_abierto_1.jpg', 'img\\\\Nicolas_Portos_Saavedra\\\\piedra\\\\piedra_abierto_2.jpg', 'img\\\\Nicolas_Portos_Saavedra\\\\piedra\\\\piedra_abierto_3.jpg', 'img\\\\Nicolas_Portos_Saavedra\\\\piedra\\\\piedra_cerrado_1.jpg', 'img\\\\Nicolas_Portos_Saavedra\\\\piedra\\\\piedra_cerrado_2.jpg', 'img\\\\Nicolas_Portos_Saavedra\\\\piedra\\\\piedra_cerrado_3.jpg', 'img\\\\Nicolas_Portos_Saavedra\\\\piedra\\\\piedra_cerrado_4.jpg', 'img\\\\Nicolas_Portos_Saavedra\\\\tijera\\\\tijera_abierto_1.jpg', 'img\\\\Nicolas_Portos_Saavedra\\\\tijera\\\\tijera_abierto_2.jpg', 'img\\\\Nicolas_Portos_Saavedra\\\\tijera\\\\tijera_abierto_3.jpg', 'img\\\\Nicolas_Portos_Saavedra\\\\tijera\\\\tijera_cerrado_1.jpg', 'img\\\\Nicolas_Portos_Saavedra\\\\tijera\\\\tijera_cerrado_2.jpg', 'img\\\\Nicolas_Portos_Saavedra\\\\tijera\\\\tijera_cerrado_3.jpg', 'img\\\\Nicolas_Portos_Saavedra\\\\tijera\\\\tijera_cerrado_4.jpg', 'img\\\\Nicolas_Portos_Saavedra\\\\tijera\\\\tijera_cerrado_5.jpg', 'img\\\\oscar\\\\none\\\\20240226_163453.jpg', 'img\\\\oscar\\\\none\\\\20240226_163457.jpg', 'img\\\\oscar\\\\none\\\\20240226_163502.jpg', 'img\\\\oscar\\\\none\\\\20240226_163521.jpg', 'img\\\\oscar\\\\none\\\\20240226_163536.jpg', 'img\\\\oscar\\\\none\\\\20240226_164338.jpg', 'img\\\\oscar\\\\none\\\\20240226_164341.jpg', 'img\\\\oscar\\\\none\\\\20240226_164342.jpg', 'img\\\\oscar\\\\papel\\\\20240226_162957.jpg', 'img\\\\oscar\\\\papel\\\\20240226_163007.jpg', 'img\\\\oscar\\\\papel\\\\20240226_163009.jpg', 'img\\\\oscar\\\\papel\\\\20240226_163012.jpg', 'img\\\\oscar\\\\papel\\\\20240226_163016.jpg', 'img\\\\oscar\\\\papel\\\\20240226_164328.jpg', 'img\\\\oscar\\\\papel\\\\20240226_164329.jpg', 'img\\\\oscar\\\\papel\\\\20240226_164330.jpg', 'img\\\\oscar\\\\papel\\\\20240226_164331.jpg', 'img\\\\oscar\\\\papel\\\\20240226_164350.jpg', 'img\\\\oscar\\\\piedra\\\\20240226_163335.jpg', 'img\\\\oscar\\\\piedra\\\\20240226_163337.jpg', 'img\\\\oscar\\\\piedra\\\\20240226_163340.jpg', 'img\\\\oscar\\\\piedra\\\\20240226_163349.jpg', 'img\\\\oscar\\\\piedra\\\\20240226_163402.jpg', 'img\\\\oscar\\\\piedra\\\\20240226_164337.jpg', 'img\\\\oscar\\\\piedra\\\\20240226_164348.jpg', 'img\\\\oscar\\\\tijeras\\\\20240226_163418.jpg', 'img\\\\oscar\\\\tijeras\\\\20240226_163420.jpg', 'img\\\\oscar\\\\tijeras\\\\20240226_163427.jpg', 'img\\\\oscar\\\\tijeras\\\\20240226_163430.jpg', 'img\\\\oscar\\\\tijeras\\\\20240226_163443.jpg', 'img\\\\oscar\\\\tijeras\\\\20240226_164334.jpg', 'img\\\\oscar\\\\tijeras\\\\20240226_164335.jpg', 'img\\\\oscar\\\\tijeras\\\\20240226_164344.jpg', 'img\\\\oscar\\\\tijeras\\\\20240226_164346.jpg', 'img\\\\oscar\\\\tijeras\\\\20240226_164347.jpg']\n",
      "['tijeras', 'papel', 'piedra', 'none']\n"
     ]
    }
   ],
   "source": [
    "import os\n",
    "\n",
    "lista = []\n",
    "lista_nombres = []\n",
    "directorio_base = 'img'\n",
    "\n",
    "for directorio_actual, subdirectorios, archivos in os.walk(directorio_base):\n",
    "    for name in archivos:\n",
    "        a=os.path.basename(directorio_actual)\n",
    "        if a=='tijera':\n",
    "            a='tijeras'\n",
    "        lista.append(os.path.join(directorio_actual, name))\n",
    "        lista_nombres.append(a)\n",
    "\n",
    "print(lista_nombres)\n",
    "print(lista)\n",
    "\n",
    "lista_unica = list(set(lista_nombres))\n",
    "\n",
    "print(lista_unica)\n",
    "\n"
   ]
  },
  {
   "cell_type": "code",
   "execution_count": 15,
   "metadata": {},
   "outputs": [],
   "source": [
    "import cv2 as cv\n",
    "import matplotlib.pyplot as plt\n",
    "listafinal=[]\n",
    "def plot_digit(img_path,lista_nombres,i):\n",
    "    img1 = cv.imread(img_path)\n",
    "    if img1 is None:\n",
    "        print(f\"No se pudo leer la imagen en {img_path}\")\n",
    "        return\n",
    "    img1 = cv.resize(img1, (512, 512))\n",
    "    path=f'img/img/{lista_nombres}/90_{i}.jpg'\n",
    "    rotated_90 = cv.rotate(img1, cv.ROTATE_90_CLOCKWISE)\n",
    "    cv.imwrite(path, rotated_90)\n",
    "    path=f'img/img/{lista_nombres}/180_{i}.jpg'\n",
    "    rotated_180 = cv.rotate(img1, cv.ROTATE_180)\n",
    "    cv.imwrite(path, rotated_180)\n",
    "    path=f'img/img/{lista_nombres}/270_{i}.jpg'\n",
    "    rotated_270 = cv.rotate(img1, cv.ROTATE_90_COUNTERCLOCKWISE)\n",
    "    cv.imwrite(path, rotated_270)\n",
    "    path=f'img/img/{lista_nombres}/mirrorv_{i}.jpg'\n",
    "    mirrored_vertical = cv.flip(img1, 0)\n",
    "    cv.imwrite(path, mirrored_vertical)\n",
    "    path=f'img/img/{lista_nombres}/mirrorh_{i}.jpg'\n",
    "    mirrored_horizontal = cv.flip(img1, 1)\n",
    "    cv.imwrite(path, mirrored_horizontal)\n",
    "    path=f'img/img/{lista_nombres}/m_g90h{i}.jpg'\n",
    "    m_g90h= cv.rotate(mirrored_horizontal, cv.ROTATE_90_CLOCKWISE)\n",
    "    cv.imwrite(path, m_g90h)\n",
    "    path=f'img/img/{lista_nombres}/m_g180h{i}.jpg'\n",
    "    m_g180h=cv.rotate(mirrored_horizontal, cv.ROTATE_180)\n",
    "    cv.imwrite(path, m_g180h)\n",
    "    path=f'img/img/{lista_nombres}/m_g270h{i}.jpg'\n",
    "    m_g270h=cv.rotate(mirrored_horizontal,cv.ROTATE_90_COUNTERCLOCKWISE)\n",
    "    cv.imwrite(path, m_g270h)\n",
    "    path=f'img/img/{lista_nombres}/m_g90v{i}.jpg'\n",
    "    m_g90v= cv.rotate(mirrored_vertical, cv.ROTATE_90_CLOCKWISE)\n",
    "    cv.imwrite(path, m_g90v)\n",
    "    path=f'img/{lista_nombres}/m_g180v{i}.jpg'\n",
    "    m_g180v=cv.rotate(mirrored_vertical, cv.ROTATE_180)\n",
    "    cv.imwrite(path, m_g180v)\n",
    "    m_g270v=cv.rotate(mirrored_vertical,cv.ROTATE_90_COUNTERCLOCKWISE)    \n",
    "    cv.imwrite(path, mirrored_horizontal)  \n",
    "\n",
    "for i, image_data in enumerate(lista):\n",
    "    plot_digit(image_data,lista_nombres[i],i)\n"
   ]
  }
 ],
 "metadata": {
  "kernelspec": {
   "display_name": "ia",
   "language": "python",
   "name": "python3"
  },
  "language_info": {
   "codemirror_mode": {
    "name": "ipython",
    "version": 3
   },
   "file_extension": ".py",
   "mimetype": "text/x-python",
   "name": "python",
   "nbconvert_exporter": "python",
   "pygments_lexer": "ipython3",
   "version": "3.8.18"
  }
 },
 "nbformat": 4,
 "nbformat_minor": 2
}
